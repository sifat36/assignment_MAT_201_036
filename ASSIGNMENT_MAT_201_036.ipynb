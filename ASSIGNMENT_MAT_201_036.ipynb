{
 "cells": [
  {
   "cell_type": "markdown",
   "metadata": {},
   "source": [
    "# Write a function called rectangle that takes two integers m and n as arguments and prints out an m × n box consisting of asterisks."
   ]
  },
  {
   "cell_type": "code",
   "execution_count": 2,
   "metadata": {},
   "outputs": [
    {
     "name": "stdout",
     "output_type": "stream",
     "text": [
      "Enter the value of m: 5\n",
      "Enter the value of n: 5\n",
      "*****\n",
      "*****\n",
      "*****\n",
      "*****\n",
      "*****\n"
     ]
    }
   ],
   "source": [
    "#This function will print the * and by the parameter we have taken the value of m and n from the user.\n",
    "def rectangle(m,n):\n",
    "    for i in range (0,m):\n",
    "#Here * is printed n times \n",
    "        print '*' * n \n",
    "        i = i + 1 \n",
    "def main():\n",
    "    m = input ('Enter the value of m: ')\n",
    "    n = input ('Enter the value of n: ')\n",
    "    rectangle(m,n)  #called the function\n",
    "main()"
   ]
  },
  {
   "cell_type": "markdown",
   "metadata": {},
   "source": [
    "# Write a function called add_excitement that takes a list of strings and adds an exclamation point ( ! ) to the end of each string in the list. The program should modify the original list and not return anything."
   ]
  },
  {
   "cell_type": "code",
   "execution_count": 2,
   "metadata": {},
   "outputs": [
    {
     "name": "stdout",
     "output_type": "stream",
     "text": [
      "Enter the string list: i am sifat.i am a student.\n",
      "i!am!sifat!i!am!a!student!\n"
     ]
    }
   ],
   "source": [
    "import array\n",
    "#In this function we have replaced the \" \" with \"!\" between the words and used replace function for it.\n",
    "def add_excitement(string):\n",
    "    array = []\n",
    "    array1 = []\n",
    "    array = string.replace(\" \", \"!\")\n",
    "# this will print also \"!\" at the last of that string.\n",
    "    array1 = array.replace(\".\", \"!\")\n",
    "    string = array1\n",
    "    print string  \n",
    "def main():\n",
    "    string = raw_input ('Enter the string list: ')\n",
    "    add_excitement(string)\n",
    "main()"
   ]
  },
  {
   "cell_type": "markdown",
   "metadata": {},
   "source": [
    "# Write the same function except that it should not modify the original list and should instead return a new list."
   ]
  },
  {
   "cell_type": "code",
   "execution_count": 3,
   "metadata": {},
   "outputs": [
    {
     "name": "stdout",
     "output_type": "stream",
     "text": [
      "Enter the string list: i am sifat.i am a student.\n",
      "The input is :  i am sifat.i am a student.\n",
      "i!am!sifat!i!am!a!student!\n"
     ]
    }
   ],
   "source": [
    "import array\n",
    "#In this function we have replaced the \" \" with \"!\" between the words and used replace function for it.\n",
    "array = []\n",
    "array1 = []\n",
    "def add_excitement(string):\n",
    "    array = string.replace(\" \" , \"!\")\n",
    "   # this will print also \"!\" at the last of that string.\n",
    "    array1 = array.replace(\".\" , \"!\")\n",
    "    return array1 \n",
    "def main():\n",
    "    string = raw_input ('Enter the string list: ')\n",
    "    #Here i have printed the input string\n",
    "    print \"The input is : \", string\n",
    "    print add_excitement(string)\n",
    "main()"
   ]
  },
  {
   "cell_type": "markdown",
   "metadata": {},
   "source": [
    "# The digital root of a number n is obtained as follows: Add up the digits n to get a new number. Add up the digits of that to get another new number. Keep doing this until you get a number that has only one digit. That number is the digital root. For example, if n = 45893 , we add up the digits to get 4 + 5 + 8 + 9 + 3 = 29 . We then add up the digits of 29 to get 2 + 9 = 11 . We then add up the digits of 11 to get 1 + 1 = 2 . Since 2 has only one digit, 2 is our digital root. Write a function that returns the digital root of an integer n . [Note: there is a shortcut, where the digital root is equal to n mod 9, but do not use that here.]"
   ]
  },
  {
   "cell_type": "code",
   "execution_count": 6,
   "metadata": {},
   "outputs": [
    {
     "name": "stdout",
     "output_type": "stream",
     "text": [
      "Enter a number: 5464\n",
      "Digital root is  1\n"
     ]
    }
   ],
   "source": [
    "def digital_root(m):\n",
    "    #if the value of m is greater than 10, then i will return the value of m because it's a singel digit.\n",
    "    if m < 10 :\n",
    "            return m\n",
    "    else :\n",
    "#while the value of the m is greater than 10 then the number will be divided by 10 untill it found 0 and the mod of that number\n",
    "#will be added to the sum.\n",
    "        while m >= 10: \n",
    "            sum = 0\n",
    "            while m / 10 != 0 :\n",
    "                sum = m % 10 + sum\n",
    "                m = m / 10\n",
    "            sum = sum + m\n",
    "            m = sum\n",
    "        return m\n",
    "def main():\n",
    "    n = input ('Enter a number: ')\n",
    "    print 'Digital root is ', digital_root(n)\n",
    "main()"
   ]
  },
  {
   "cell_type": "markdown",
   "metadata": {},
   "source": [
    "# Write a function that takes an integer n and returns a random integer with exactly n digits. For instance, if n is 3, then 125 and 593 would be valid return values, but 093 would not because that is really 93, which is a two-digit number."
   ]
  },
  {
   "cell_type": "code",
   "execution_count": null,
   "metadata": {},
   "outputs": [],
   "source": [
    "def exact_digit(n):\n",
    "    m = 1\n",
    "    m1 = 0\n",
    "    c = 0\n",
    "    # if the digit is 1 then it will return the number\n",
    "    if n * n == n:\n",
    "        return n\n",
    "    else :\n",
    "    #it will count untill the number is 1 less than the input number\n",
    "        while c != n - 1:\n",
    "            c = 0\n",
    "    #it will multiply the given number with m\n",
    "            m = m * n * n\n",
    "            m1 = m\n",
    "            while m1 / 10 != 0:\n",
    "                m1 = m1 / 10\n",
    "                c = c + 1\n",
    "        return m\n",
    "        \n",
    "def main():\n",
    "    n = input ('Enter a number: ')\n",
    "    print 'The number is ', exact_digit(n)\n",
    "main()"
   ]
  },
  {
   "cell_type": "markdown",
   "metadata": {},
   "source": [
    "# Write a function called matches that takes two strings as arguments and returns how many matches there are between the strings. A match is where the two strings have the same character at the same index. For instance, ' python ' and ' path ' match in the first, third, and fourth characters, so the function should return 3."
   ]
  },
  {
   "cell_type": "code",
   "execution_count": 25,
   "metadata": {},
   "outputs": [
    {
     "name": "stdout",
     "output_type": "stream",
     "text": [
      "First string: python\n",
      "second string: oath\n",
      "2\n"
     ]
    }
   ],
   "source": [
    "def matches(string1,string2):\n",
    "#Here we will match the length of the string for matching the index number and c is the counter of that matching \n",
    "    c = 0\n",
    "    #if the string 1 is less then 2 then it will works otherwise else will work\n",
    "    if len(string1) < len(string2):\n",
    "        for i in range (0,len(string1)):\n",
    "            if string1[i] == string2[i]:\n",
    "                c = c + 1\n",
    "            i = i + 1\n",
    "    else:\n",
    "        for i in range (0,len(string2)):\n",
    "            if string1[i] == string2[i]:\n",
    "                c = c + 1\n",
    "            i = i + 1\n",
    "    return c\n",
    "def main():\n",
    "    string1 = raw_input ('First string: ')\n",
    "    string2 = raw_input ('second string: ')\n",
    "    print matches(string1,string2)\n",
    "main()"
   ]
  },
  {
   "cell_type": "markdown",
   "metadata": {},
   "source": [
    "# Write a function called primes that is given a number n and returns a list of the first n primes. Let the default value of n be 100."
   ]
  },
  {
   "cell_type": "code",
   "execution_count": 2,
   "metadata": {},
   "outputs": [
    {
     "name": "stdout",
     "output_type": "stream",
     "text": [
      "Enter the value of n: 10\n",
      "2\n",
      "3\n",
      "5\n",
      "7\n",
      "11\n",
      "13\n",
      "17\n",
      "19\n",
      "23\n",
      "29\n"
     ]
    }
   ],
   "source": [
    "import array\n",
    "array = [ ]\n",
    "def primes(n):\n",
    "    i = 1\n",
    "    count = 0\n",
    "#the loop will work untill the count is less than n\n",
    "    while count < n:\n",
    "#flag is used for the condition true or false\n",
    "        flag = 0\n",
    "        for j in range (2,i+1):\n",
    "            if i % j == 0 and i != j: \n",
    "                flag = 0\n",
    "                break\n",
    "            else :\n",
    "                flag = 1\n",
    "            j = j + 1\n",
    "        if flag == 1:\n",
    "            array.append(i)\n",
    "            count = count + 1\n",
    "        i = i+1\n",
    "    return [array,count]\n",
    "        \n",
    "def main():\n",
    "    n = input ('Enter the value of n: ')\n",
    "    array, k = primes(n)\n",
    "    for i in range (0,k):\n",
    "        print array[i]\n",
    "        i = i + 1\n",
    "main()"
   ]
  },
  {
   "cell_type": "markdown",
   "metadata": {},
   "source": [
    "# Recall that if s is a string, then s.find( ' a ' ) will find the location of the first a in s . The problem is that it does not find the location of every a. Write a function called find all that given a string and a single character, returns a list containing all of the locations of that character in the string. It should return an empty list if there are no occurrences of the character in the string."
   ]
  },
  {
   "cell_type": "code",
   "execution_count": 24,
   "metadata": {},
   "outputs": [
    {
     "name": "stdout",
     "output_type": "stream",
     "text": [
      "Enter a string: bangladesh\n",
      "Enter a character: e\n",
      "8\n"
     ]
    }
   ],
   "source": [
    "import array\n",
    "array =[]\n",
    "def Recall(string,char):\n",
    "    i = 0\n",
    "    c = 0\n",
    "    #first it will cheq the length\n",
    "    for i in range (0,len(string)):\n",
    "    #it is cheqing the character in the string\n",
    "        if string[i] == char:\n",
    "            array.append(i+1)\n",
    "        else :\n",
    "            array.append(0)\n",
    "        i = i + 1\n",
    "    return [array,i]\n",
    "def main():\n",
    "    flag = 0\n",
    "    string = raw_input ('Enter a string: ')\n",
    "    char = raw_input ('Enter a character: ')\n",
    "    array,c = Recall(string,char)\n",
    "    for j in range (0,c):\n",
    "        #when it have found any character it will break\n",
    "        if array[j] > 0:\n",
    "            flag = 1\n",
    "            break\n",
    "        j = j + 1\n",
    "    for i in range (0,c):\n",
    "        if flag == 1:\n",
    "            if array[i] > 0:\n",
    "                print array[i] \n",
    "        else :\n",
    "            print array[i] \n",
    "        i = i + 1\n",
    "main()"
   ]
  }
 ],
 "metadata": {
  "kernelspec": {
   "display_name": "Python 2",
   "language": "python",
   "name": "python2"
  },
  "language_info": {
   "codemirror_mode": {
    "name": "ipython",
    "version": 2
   },
   "file_extension": ".py",
   "mimetype": "text/x-python",
   "name": "python",
   "nbconvert_exporter": "python",
   "pygments_lexer": "ipython2",
   "version": "2.7.15"
  }
 },
 "nbformat": 4,
 "nbformat_minor": 2
}
